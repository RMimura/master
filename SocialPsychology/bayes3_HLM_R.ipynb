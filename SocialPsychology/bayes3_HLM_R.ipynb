{
 "cells": [
  {
   "cell_type": "markdown",
   "metadata": {},
   "source": [
    "# MCMCでマルチレベル分析　HLM"
   ]
  },
  {
   "cell_type": "code",
   "execution_count": 2,
   "metadata": {},
   "outputs": [],
   "source": [
    "library(psych)\n",
    "library(dplyr)"
   ]
  },
  {
   "cell_type": "code",
   "execution_count": 2,
   "metadata": {},
   "outputs": [
    {
     "data": {
      "text/html": [
       "<table>\n",
       "<thead><tr><th scope=col>順列</th><th scope=col>個人成績</th><th scope=col>集団成績</th><th scope=col>条件</th><th scope=col>誤答率</th><th scope=col>平均反応時間</th></tr></thead>\n",
       "<tbody>\n",
       "\t<tr><td>1    </td><td> 9   </td><td>10   </td><td>1    </td><td>0.0  </td><td>517.8</td></tr>\n",
       "\t<tr><td>1    </td><td> 8   </td><td>10   </td><td>1    </td><td>0.0  </td><td>591.1</td></tr>\n",
       "\t<tr><td>1    </td><td>10   </td><td>10   </td><td>1    </td><td>0.1  </td><td>484.0</td></tr>\n",
       "</tbody>\n",
       "</table>\n"
      ],
      "text/latex": [
       "\\begin{tabular}{r|llllll}\n",
       " 順列 & 個人成績 & 集団成績 & 条件 & 誤答率 & 平均反応時間\\\\\n",
       "\\hline\n",
       "\t 1     &  9    & 10    & 1     & 0.0   & 517.8\\\\\n",
       "\t 1     &  8    & 10    & 1     & 0.0   & 591.1\\\\\n",
       "\t 1     & 10    & 10    & 1     & 0.1   & 484.0\\\\\n",
       "\\end{tabular}\n"
      ],
      "text/markdown": [
       "\n",
       "| 順列 | 個人成績 | 集団成績 | 条件 | 誤答率 | 平均反応時間 |\n",
       "|---|---|---|---|---|---|\n",
       "| 1     |  9    | 10    | 1     | 0.0   | 517.8 |\n",
       "| 1     |  8    | 10    | 1     | 0.0   | 591.1 |\n",
       "| 1     | 10    | 10    | 1     | 0.1   | 484.0 |\n",
       "\n"
      ],
      "text/plain": [
       "  順列 個人成績 集団成績 条件 誤答率 平均反応時間\n",
       "1 1     9       10       1    0.0    517.8       \n",
       "2 1     8       10       1    0.0    591.1       \n",
       "3 1    10       10       1    0.1    484.0       "
      ]
     },
     "metadata": {},
     "output_type": "display_data"
    }
   ],
   "source": [
    "dat<-read.csv(\"hlm_data.csv\")\n",
    "dat %>% head(3)"
   ]
  },
  {
   "cell_type": "code",
   "execution_count": 3,
   "metadata": {},
   "outputs": [
    {
     "data": {
      "text/html": [
       "<table>\n",
       "<thead><tr><th scope=col>P</th><th scope=col>ind_per</th><th scope=col>group_per</th><th scope=col>cond</th><th scope=col>error</th><th scope=col>RT</th></tr></thead>\n",
       "<tbody>\n",
       "\t<tr><td>1    </td><td> 9   </td><td>10   </td><td>1    </td><td>0.0  </td><td>517.8</td></tr>\n",
       "\t<tr><td>1    </td><td> 8   </td><td>10   </td><td>1    </td><td>0.0  </td><td>591.1</td></tr>\n",
       "\t<tr><td>1    </td><td>10   </td><td>10   </td><td>1    </td><td>0.1  </td><td>484.0</td></tr>\n",
       "</tbody>\n",
       "</table>\n"
      ],
      "text/latex": [
       "\\begin{tabular}{r|llllll}\n",
       " P & ind\\_per & group\\_per & cond & error & RT\\\\\n",
       "\\hline\n",
       "\t 1     &  9    & 10    & 1     & 0.0   & 517.8\\\\\n",
       "\t 1     &  8    & 10    & 1     & 0.0   & 591.1\\\\\n",
       "\t 1     & 10    & 10    & 1     & 0.1   & 484.0\\\\\n",
       "\\end{tabular}\n"
      ],
      "text/markdown": [
       "\n",
       "| P | ind_per | group_per | cond | error | RT |\n",
       "|---|---|---|---|---|---|\n",
       "| 1     |  9    | 10    | 1     | 0.0   | 517.8 |\n",
       "| 1     |  8    | 10    | 1     | 0.0   | 591.1 |\n",
       "| 1     | 10    | 10    | 1     | 0.1   | 484.0 |\n",
       "\n"
      ],
      "text/plain": [
       "  P ind_per group_per cond error RT   \n",
       "1 1  9      10        1    0.0   517.8\n",
       "2 1  8      10        1    0.0   591.1\n",
       "3 1 10      10        1    0.1   484.0"
      ]
     },
     "metadata": {},
     "output_type": "display_data"
    }
   ],
   "source": [
    "colnames(dat)<- c(\"P\", \"ind_per\",\"group_per\", \"cond\", \"error\", \"RT\")\n",
    "dat %>% head(3)"
   ]
  },
  {
   "cell_type": "code",
   "execution_count": 4,
   "metadata": {},
   "outputs": [],
   "source": [
    "#install.packages(\"ICC\")\n",
    "library(ICC)"
   ]
  },
  {
   "cell_type": "code",
   "execution_count": 5,
   "metadata": {},
   "outputs": [
    {
     "data": {
      "text/html": [
       "<dl>\n",
       "\t<dt>$ICC</dt>\n",
       "\t\t<dd>0.963878374032015</dd>\n",
       "\t<dt>$LowerCI</dt>\n",
       "\t\t<dd>0.885243131927389</dd>\n",
       "\t<dt>$UpperCI</dt>\n",
       "\t\t<dd>0.994189510202623</dd>\n",
       "\t<dt>$N</dt>\n",
       "\t\t<dd>6</dd>\n",
       "\t<dt>$k</dt>\n",
       "\t\t<dd>4</dd>\n",
       "\t<dt>$varw</dt>\n",
       "\t\t<dd>0.00081111111111111</dd>\n",
       "\t<dt>$vara</dt>\n",
       "\t\t<dd>0.0216438888888889</dd>\n",
       "</dl>\n"
      ],
      "text/latex": [
       "\\begin{description}\n",
       "\\item[\\$ICC] 0.963878374032015\n",
       "\\item[\\$LowerCI] 0.885243131927389\n",
       "\\item[\\$UpperCI] 0.994189510202623\n",
       "\\item[\\$N] 6\n",
       "\\item[\\$k] 4\n",
       "\\item[\\$varw] 0.00081111111111111\n",
       "\\item[\\$vara] 0.0216438888888889\n",
       "\\end{description}\n"
      ],
      "text/markdown": [
       "$ICC\n",
       ":   0.963878374032015\n",
       "$LowerCI\n",
       ":   0.885243131927389\n",
       "$UpperCI\n",
       ":   0.994189510202623\n",
       "$N\n",
       ":   6\n",
       "$k\n",
       ":   4\n",
       "$varw\n",
       ":   0.00081111111111111\n",
       "$vara\n",
       ":   0.0216438888888889\n",
       "\n",
       "\n"
      ],
      "text/plain": [
       "$ICC\n",
       "[1] 0.9638784\n",
       "\n",
       "$LowerCI\n",
       "[1] 0.8852431\n",
       "\n",
       "$UpperCI\n",
       "[1] 0.9941895\n",
       "\n",
       "$N\n",
       "[1] 6\n",
       "\n",
       "$k\n",
       "[1] 4\n",
       "\n",
       "$varw\n",
       "[1] 0.0008111111\n",
       "\n",
       "$vara\n",
       "[1] 0.02164389\n"
      ]
     },
     "metadata": {},
     "output_type": "display_data"
    }
   ],
   "source": [
    "# 級内相関\n",
    "ICCest(x = factor(P), y = error, dat)"
   ]
  },
  {
   "cell_type": "code",
   "execution_count": 6,
   "metadata": {},
   "outputs": [],
   "source": [
    "# データを中心化\n",
    "dat$error_m <- tapply(dat$error, dat$P, mean, na.rm = TRUE)[as.character(dat$P)]"
   ]
  },
  {
   "cell_type": "code",
   "execution_count": 7,
   "metadata": {},
   "outputs": [],
   "source": [
    "dat$error_g <- dat$error - dat$error_m"
   ]
  },
  {
   "cell_type": "code",
   "execution_count": 8,
   "metadata": {},
   "outputs": [],
   "source": [
    "dat$group_per <- dat$group_per - mean(dat$group_per, na.rm = T)"
   ]
  },
  {
   "cell_type": "code",
   "execution_count": 9,
   "metadata": {},
   "outputs": [
    {
     "data": {
      "text/html": [
       "<table>\n",
       "<thead><tr><th scope=col>P</th><th scope=col>ind_per</th><th scope=col>group_per</th><th scope=col>cond</th><th scope=col>error</th><th scope=col>RT</th><th scope=col>error_m</th><th scope=col>error_g</th></tr></thead>\n",
       "<tbody>\n",
       "\t<tr><td>1        </td><td> 9       </td><td> 3.666667</td><td>1        </td><td>0.00     </td><td>517.8    </td><td>0.0375   </td><td>-0.0375  </td></tr>\n",
       "\t<tr><td>1        </td><td> 8       </td><td> 3.666667</td><td>1        </td><td>0.00     </td><td>591.1    </td><td>0.0375   </td><td>-0.0375  </td></tr>\n",
       "\t<tr><td>1        </td><td>10       </td><td> 3.666667</td><td>1        </td><td>0.10     </td><td>484.0    </td><td>0.0375   </td><td> 0.0625  </td></tr>\n",
       "\t<tr><td>1        </td><td> 9       </td><td> 3.666667</td><td>1        </td><td>0.05     </td><td>469.9    </td><td>0.0375   </td><td> 0.0125  </td></tr>\n",
       "\t<tr><td>2        </td><td> 3       </td><td>-2.333333</td><td>0        </td><td>0.30     </td><td>456.8    </td><td>0.2750   </td><td> 0.0250  </td></tr>\n",
       "\t<tr><td>2        </td><td> 2       </td><td>-2.333333</td><td>0        </td><td>0.28     </td><td>477.8    </td><td>0.2750   </td><td> 0.0050  </td></tr>\n",
       "</tbody>\n",
       "</table>\n"
      ],
      "text/latex": [
       "\\begin{tabular}{r|llllllll}\n",
       " P & ind\\_per & group\\_per & cond & error & RT & error\\_m & error\\_g\\\\\n",
       "\\hline\n",
       "\t 1         &  9        &  3.666667 & 1         & 0.00      & 517.8     & 0.0375    & -0.0375  \\\\\n",
       "\t 1         &  8        &  3.666667 & 1         & 0.00      & 591.1     & 0.0375    & -0.0375  \\\\\n",
       "\t 1         & 10        &  3.666667 & 1         & 0.10      & 484.0     & 0.0375    &  0.0625  \\\\\n",
       "\t 1         &  9        &  3.666667 & 1         & 0.05      & 469.9     & 0.0375    &  0.0125  \\\\\n",
       "\t 2         &  3        & -2.333333 & 0         & 0.30      & 456.8     & 0.2750    &  0.0250  \\\\\n",
       "\t 2         &  2        & -2.333333 & 0         & 0.28      & 477.8     & 0.2750    &  0.0050  \\\\\n",
       "\\end{tabular}\n"
      ],
      "text/markdown": [
       "\n",
       "| P | ind_per | group_per | cond | error | RT | error_m | error_g |\n",
       "|---|---|---|---|---|---|---|---|\n",
       "| 1         |  9        |  3.666667 | 1         | 0.00      | 517.8     | 0.0375    | -0.0375   |\n",
       "| 1         |  8        |  3.666667 | 1         | 0.00      | 591.1     | 0.0375    | -0.0375   |\n",
       "| 1         | 10        |  3.666667 | 1         | 0.10      | 484.0     | 0.0375    |  0.0625   |\n",
       "| 1         |  9        |  3.666667 | 1         | 0.05      | 469.9     | 0.0375    |  0.0125   |\n",
       "| 2         |  3        | -2.333333 | 0         | 0.30      | 456.8     | 0.2750    |  0.0250   |\n",
       "| 2         |  2        | -2.333333 | 0         | 0.28      | 477.8     | 0.2750    |  0.0050   |\n",
       "\n"
      ],
      "text/plain": [
       "  P ind_per group_per cond error RT    error_m error_g\n",
       "1 1  9       3.666667 1    0.00  517.8 0.0375  -0.0375\n",
       "2 1  8       3.666667 1    0.00  591.1 0.0375  -0.0375\n",
       "3 1 10       3.666667 1    0.10  484.0 0.0375   0.0625\n",
       "4 1  9       3.666667 1    0.05  469.9 0.0375   0.0125\n",
       "5 2  3      -2.333333 0    0.30  456.8 0.2750   0.0250\n",
       "6 2  2      -2.333333 0    0.28  477.8 0.2750   0.0050"
      ]
     },
     "metadata": {},
     "output_type": "display_data"
    }
   ],
   "source": [
    "head(dat)"
   ]
  },
  {
   "cell_type": "code",
   "execution_count": 12,
   "metadata": {},
   "outputs": [],
   "source": [
    "# 素直に線形推定\n",
    "library(lmerTest)"
   ]
  },
  {
   "cell_type": "code",
   "execution_count": 13,
   "metadata": {},
   "outputs": [],
   "source": [
    "result_ml<- lmer(ind_per ~ (1+error_g|P) + error_g + group_per, dat, REML = F)"
   ]
  },
  {
   "cell_type": "code",
   "execution_count": 14,
   "metadata": {},
   "outputs": [
    {
     "data": {
      "text/plain": [
       "Linear mixed model fit by maximum likelihood . t-tests use Satterthwaite's\n",
       "  method [lmerModLmerTest]\n",
       "Formula: ind_per ~ (1 + error_g | P) + error_g + group_per\n",
       "   Data: dat\n",
       "\n",
       "     AIC      BIC   logLik deviance df.resid \n",
       "    76.9     85.2    -31.5     62.9       17 \n",
       "\n",
       "Scaled residuals: \n",
       "     Min       1Q   Median       3Q      Max \n",
       "-1.56341 -0.74832  0.01909  0.56946  1.76386 \n",
       "\n",
       "Random effects:\n",
       " Groups   Name        Variance  Std.Dev. Corr \n",
       " P        (Intercept)   0.06831  0.2614       \n",
       "          error_g     145.50825 12.0627  -1.00\n",
       " Residual               0.69028  0.8308       \n",
       "Number of obs: 24, groups:  P, 6\n",
       "\n",
       "Fixed effects:\n",
       "            Estimate Std. Error       df t value Pr(>|t|)    \n",
       "(Intercept)  5.70833    0.20037  7.50086  28.489 6.42e-09 ***\n",
       "error_g     -1.47894    9.11494  3.88389  -0.162    0.879    \n",
       "group_per    1.11246    0.06982 11.22585  15.934 4.65e-09 ***\n",
       "---\n",
       "Signif. codes:  0 '***' 0.001 '**' 0.01 '*' 0.05 '.' 0.1 ' ' 1\n",
       "\n",
       "Correlation of Fixed Effects:\n",
       "          (Intr) errr_g\n",
       "error_g   -0.288       \n",
       "group_per  0.000 -0.011"
      ]
     },
     "metadata": {},
     "output_type": "display_data"
    }
   ],
   "source": [
    "summary(result_ml)"
   ]
  },
  {
   "cell_type": "code",
   "execution_count": 15,
   "metadata": {},
   "outputs": [
    {
     "data": {
      "text/plain": [
       "\n",
       "\tShapiro-Wilk normality test\n",
       "\n",
       "data:  dat$ind_per\n",
       "W = 0.89711, p-value = 0.0187\n"
      ]
     },
     "metadata": {},
     "output_type": "display_data"
    }
   ],
   "source": [
    "# 目的変数って正規性を仮定していいの？\n",
    "shapiro.test(dat$ind_per)"
   ]
  },
  {
   "cell_type": "code",
   "execution_count": null,
   "metadata": {},
   "outputs": [],
   "source": []
  },
  {
   "cell_type": "markdown",
   "metadata": {},
   "source": [
    "# 以下Rstanの迷宮"
   ]
  },
  {
   "cell_type": "code",
   "execution_count": 20,
   "metadata": {},
   "outputs": [
    {
     "name": "stderr",
     "output_type": "stream",
     "text": [
      "Installing package into 'C:/Users/mimus/Documents/R/win-library/3.6'\n",
      "(as 'lib' is unspecified)\n",
      "Warning message:\n",
      "\"package 'lmerTest' is in use and will not be installed\"Installing package into 'C:/Users/mimus/Documents/R/win-library/3.6'\n",
      "(as 'lib' is unspecified)\n"
     ]
    },
    {
     "name": "stdout",
     "output_type": "stream",
     "text": [
      "package 'devtools' successfully unpacked and MD5 sums checked\n",
      "\n",
      "The downloaded binary packages are in\n",
      "\tC:\\Users\\mimus\\AppData\\Local\\Temp\\RtmpmG3YoN\\downloaded_packages\n"
     ]
    },
    {
     "name": "stderr",
     "output_type": "stream",
     "text": [
      "Installing package into 'C:/Users/mimus/Documents/R/win-library/3.6'\n",
      "(as 'lib' is unspecified)\n"
     ]
    },
    {
     "name": "stdout",
     "output_type": "stream",
     "text": [
      "package 'rstan' successfully unpacked and MD5 sums checked\n",
      "\n",
      "The downloaded binary packages are in\n",
      "\tC:\\Users\\mimus\\AppData\\Local\\Temp\\RtmpmG3YoN\\downloaded_packages\n"
     ]
    }
   ],
   "source": [
    "# 最尤法でHLMを行うのに必要\n",
    "#install.packages(\"lmerTest\")\n",
    "# GitHub状のパッケージをインストールするためのパッケージ\n",
    "#install.packages(\"devtools\")\n",
    "# Rstan\n",
    "#install.packages(\"rstan\",repos='https://cloud.r-project.org/', dependencies=TRUE)"
   ]
  },
  {
   "cell_type": "code",
   "execution_count": 21,
   "metadata": {},
   "outputs": [
    {
     "name": "stdout",
     "output_type": "stream",
     "text": [
      "Scanning R CMD config CC...\n",
      "cc_path: gcc \n",
      "install_path: C:/Users/mimus/ANACON~2/Library \n",
      "Found compatible gcc from R CMD config CC\n"
     ]
    },
    {
     "data": {
      "text/html": [
       "TRUE"
      ],
      "text/latex": [
       "TRUE"
      ],
      "text/markdown": [
       "TRUE"
      ],
      "text/plain": [
       "[1] TRUE"
      ]
     },
     "metadata": {},
     "output_type": "display_data"
    }
   ],
   "source": [
    "pkgbuild::has_build_tools(debug = TRUE)"
   ]
  },
  {
   "cell_type": "code",
   "execution_count": 23,
   "metadata": {},
   "outputs": [],
   "source": [
    "dotR <- file.path(Sys.getenv(\"HOME\"), \".R\")\n",
    "if (!file.exists(dotR)) dir.create(dotR)\n",
    "M <- file.path(dotR, ifelse(.Platform$OS.type == \"windows\", \"Makevars.win\", \"Makevars\"))\n",
    "if (!file.exists(M)) file.create(M)\n",
    "cat(\"\\nCXX14FLAGS=-O3 -march=native -mtune=native\",\n",
    "    if( grepl(\"^darwin\", R.version$os)) \"CXX14FLAGS += -arch x86_64 -ftemplate-depth-256\" else\n",
    "    if (.Platform$OS.type == \"windows\") \"CXX11FLAGS=-O3 -march=corei7 -mtune=corei7\" else\n",
    "    \"CXX14FLAGS += -fPIC\",\n",
    "    file = M, sep = \"\\n\", append = TRUE)"
   ]
  },
  {
   "cell_type": "markdown",
   "metadata": {},
   "source": [
    "#### 下準備終わり！"
   ]
  },
  {
   "cell_type": "markdown",
   "metadata": {},
   "source": [
    "# よっしゃ！Rstan使うで！"
   ]
  },
  {
   "cell_type": "code",
   "execution_count": 11,
   "metadata": {},
   "outputs": [],
   "source": [
    "# Rstanの呼び出し\n",
    "library(rstan)\n",
    "\n",
    "# 清水先生作のglmmstanを使う。\n",
    "library(doParallel)\n",
    "source(\"http://bit.ly/glmmstan\")\n",
    "source(\"glmmstan.R\")"
   ]
  },
  {
   "cell_type": "code",
   "execution_count": 18,
   "metadata": {},
   "outputs": [],
   "source": [
    "# 並列で推定計算を実行させる\n",
    "options(mc.cores = parallel::detectCores())\n",
    "# コンパイル後のStanプログラムをハードディスクに保存する。（人間語を常にコンピュータ後に代えてくれる）\n",
    "rstan_options(auto_write = TRUE)\n",
    "# Windowsは実行時間を向上できる\n",
    "Sys.setenv(LOCAL_CPPFLAGS = '-march=corei7')"
   ]
  },
  {
   "cell_type": "code",
   "execution_count": 19,
   "metadata": {},
   "outputs": [
    {
     "name": "stdout",
     "output_type": "stream",
     "text": [
      "\n",
      "Compiling the stan code.\n",
      "DIAGNOSTIC(S) FROM PARSER:\n",
      "Info: assignment operator <- deprecated in the Stan language; use = instead.\n",
      "Info: assignment operator <- deprecated in the Stan language; use = instead.\n",
      "Info: assignment operator <- deprecated in the Stan language; use = instead.\n",
      "Info: assignment operator <- deprecated in the Stan language; use = instead.\n",
      "Info: assignment operator <- deprecated in the Stan language; use = instead.\n",
      "Info: assignment operator <- deprecated in the Stan language; use = instead.\n",
      "Info: Deprecated function 'normal_log'; please replace suffix '_log' with '_lpdf' for density functions or '_lpmf' for mass functions\n",
      "Info: assignment operator <- deprecated in the Stan language; use = instead.\n",
      "Info: assignment operator <- deprecated in the Stan language; use = instead.\n",
      "Info: assignment operator <- deprecated in the Stan language; use = instead.\n",
      "Info: assignment operator <- deprecated in the Stan language; use = instead.\n",
      "Info: assignment operator <- deprecated in the Stan language; use = instead.\n",
      "Info: assignment operator <- deprecated in the Stan language; use = instead.\n",
      "Info: assignment operator <- deprecated in the Stan language; use = instead.\n",
      "Info: assignment operator <- deprecated in the Stan language; use = instead.\n",
      "Info: Deprecated function 'multi_normal_log'; please replace suffix '_log' with '_lpdf' for density functions or '_lpmf' for mass functions\n",
      "\n",
      "\n",
      "MCMC sampling start.\n"
     ]
    },
    {
     "ename": "ERROR",
     "evalue": "Error:  サイズ 10.9 Gb のベクトルを割り当てることができません \n",
     "output_type": "error",
     "traceback": [
      "Error:  サイズ 10.9 Gb のベクトルを割り当てることができません \nTraceback:\n",
      "1. glmmstan(ind_per ~ group_per + (1 + error_g | P), dat)",
      "2. rstan::sampling(stanmodel, data = datastan, iter = iter, warmup = warmup, \n .     chains = chains, thin = thin, cores = cores)",
      "3. rstan::sampling(stanmodel, data = datastan, iter = iter, warmup = warmup, \n .     chains = chains, thin = thin, cores = cores)",
      "4. .local(object, ...)",
      "5. object@mk_cppmodule(object)",
      "6. eval(call(\"$\", mod, paste(\"stan_fit4\", model_cppname, sep = \"\")))",
      "7. eval(call(\"$\", mod, paste(\"stan_fit4\", model_cppname, sep = \"\")))",
      "8. new(\"Module\", .xData = <environment>)$stan_fit4model227c27ea1881_ind_per_group_per____1___error_g___P___gaussian_",
      "9. new(\"Module\", .xData = <environment>)$stan_fit4model227c27ea1881_ind_per_group_per____1___error_g___P___gaussian_",
      "10. .getModulePointer(x)",
      "11. Module(module, mustStart = TRUE)"
     ]
    }
   ],
   "source": [
    "result_mcmc<- glmmstan(ind_per ~ group_per+ (1+error_g|P), dat)"
   ]
  },
  {
   "cell_type": "markdown",
   "metadata": {},
   "source": [
    "Σ（・□・；）ふぁっ"
   ]
  },
  {
   "cell_type": "markdown",
   "metadata": {},
   "source": [
    "え、じゃあ、おとなしく「一般的」と呼ばれてる方法で行くか..."
   ]
  },
  {
   "cell_type": "code",
   "execution_count": 10,
   "metadata": {},
   "outputs": [],
   "source": [
    "library(glmmML)"
   ]
  },
  {
   "cell_type": "code",
   "execution_count": 12,
   "metadata": {},
   "outputs": [],
   "source": [
    "lm<-glmmML(ind_per ~ group_per + error_g , data = dat, family = poisson, cluster = P)"
   ]
  },
  {
   "cell_type": "code",
   "execution_count": 13,
   "metadata": {},
   "outputs": [
    {
     "name": "stdout",
     "output_type": "stream",
     "text": [
      "\n",
      "Call:  glmmML(formula = ind_per ~ group_per + error_g, family = poisson,      data = dat, cluster = P) \n",
      "\n",
      "\n",
      "              coef se(coef)       z Pr(>|z|)\n",
      "(Intercept) 1.5809  0.10020 15.7779 0.00e+00\n",
      "group_per   0.2208  0.03807  5.7991 6.67e-09\n",
      "error_g     0.7129  3.12797  0.2279 8.20e-01\n",
      "\n",
      "Scale parameter in mixing distribution:  3.961e-07 gaussian \n",
      "Std. Error:                              0.5904 \n",
      "\n",
      "        LR p-value for H_0: sigma = 0:  0.5 \n",
      "\n",
      "Residual deviance: 14.86 on 20 degrees of freedom \tAIC: 22.86 \n"
     ]
    }
   ],
   "source": [
    "summary(lm)"
   ]
  },
  {
   "cell_type": "markdown",
   "metadata": {},
   "source": [
    "ランダム効果も何もあったもんじゃないな (' へ')ノ"
   ]
  },
  {
   "cell_type": "code",
   "execution_count": null,
   "metadata": {},
   "outputs": [],
   "source": []
  }
 ],
 "metadata": {
  "kernelspec": {
   "display_name": "R",
   "language": "R",
   "name": "ir"
  },
  "language_info": {
   "codemirror_mode": "r",
   "file_extension": ".r",
   "mimetype": "text/x-r-source",
   "name": "R",
   "pygments_lexer": "r",
   "version": "3.6.1"
  }
 },
 "nbformat": 4,
 "nbformat_minor": 4
}
