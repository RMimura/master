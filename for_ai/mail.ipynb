{
 "cells": [
  {
   "cell_type": "markdown",
   "metadata": {},
   "source": [
    "## Gmailの「安全性の低いアプリのアクセス」は有効になっていますか？"
   ]
  },
  {
   "cell_type": "code",
   "execution_count": 1,
   "metadata": {},
   "outputs": [],
   "source": [
    "# メール送信に必要\n",
    "from email.mime.text import MIMEText\n",
    "import smtplib, ssl\n",
    "\n",
    "# 添付に必要\n",
    "from email.mime.application import MIMEApplication\n",
    "from email.mime.multipart import MIMEMultipart\n",
    "from os.path import basename\n",
    "\n",
    "# その他処理に必要\n",
    "import pandas as pd\n",
    "import numpy as np"
   ]
  },
  {
   "cell_type": "markdown",
   "metadata": {},
   "source": [
    "# 1．アドレスの存在確認メール"
   ]
  },
  {
   "cell_type": "code",
   "execution_count": 7,
   "metadata": {},
   "outputs": [
    {
     "data": {
      "text/html": [
       "<div>\n",
       "<style scoped>\n",
       "    .dataframe tbody tr th:only-of-type {\n",
       "        vertical-align: middle;\n",
       "    }\n",
       "\n",
       "    .dataframe tbody tr th {\n",
       "        vertical-align: top;\n",
       "    }\n",
       "\n",
       "    .dataframe thead th {\n",
       "        text-align: right;\n",
       "    }\n",
       "</style>\n",
       "<table border=\"1\" class=\"dataframe\">\n",
       "  <thead>\n",
       "    <tr style=\"text-align: right;\">\n",
       "      <th></th>\n",
       "      <th>to</th>\n",
       "      <th>name</th>\n",
       "    </tr>\n",
       "  </thead>\n",
       "  <tbody>\n",
       "    <tr>\n",
       "      <th>0</th>\n",
       "      <td>mimusan.psy925@gmail.com</td>\n",
       "      <td>三村 遼平（テスト）</td>\n",
       "    </tr>\n",
       "  </tbody>\n",
       "</table>\n",
       "</div>"
      ],
      "text/plain": [
       "                         to        name\n",
       "0  mimusan.psy925@gmail.com  三村 遼平（テスト）"
      ]
     },
     "execution_count": 7,
     "metadata": {},
     "output_type": "execute_result"
    }
   ],
   "source": [
    "# csvファイルの読み込み\n",
    "#[to, name]の変数順序\n",
    "dat=pd.read_csv(\"mail_format.csv\",encoding=\"SHIFT-JIS\")\n",
    "dat.head(5)"
   ]
  },
  {
   "cell_type": "code",
   "execution_count": 4,
   "metadata": {},
   "outputs": [],
   "source": [
    "# Gmailの設定1\n",
    "account = \"wlab2018.kk@gmail.com\"\n",
    "password = \"wlab9331\""
   ]
  },
  {
   "cell_type": "code",
   "execution_count": 10,
   "metadata": {},
   "outputs": [
    {
     "name": "stdout",
     "output_type": "stream",
     "text": [
      "Your mail was sent to mimusan.psy925@gmail.com\n",
      "complete\n"
     ]
    }
   ],
   "source": [
    "# Gmailの設定2\n",
    "for i in range(0,len(dat)):\n",
    "    # メールの送信先アドレス\n",
    "    mail_to = str(dat.iloc[i,0])\n",
    "\n",
    "    # メールデータ\n",
    "    subject = \"【心理学A】心理学実験への参加のお願い（テストメール）\"\n",
    "    text1 = '''【心理学A】心理学実験への参加のお願い（テストメール）\n",
    "※このメールは、教養展開【心理学A】で「心理学実験への参加のお願い」に回答していただいた方に送信しています。\n",
    "'''\n",
    "    text2 = str(dat.iloc[i,1])+''' 様，\n",
    "\n",
    "こんにちは。千葉大学心理学専修 若林研究室の三村と申します。\n",
    "この度は，「心理学実験への参加のお願い」にご記入いただき，誠にありがとうございます。\n",
    "\n",
    "本メールは，今後実験のご案内をさせていただくためのテストメールです。\n",
    "ご返信いただく必要はありません。\n",
    "ただ，もし登録したにもかかわらず，\n",
    "本メールを受け取っていないご友人がいらっしゃいましたら，ご連絡を頂けると幸いです。\n",
    "\n",
    "また，本件にお心当たりのない方は，お手数ですがご連絡ください。\n",
    "迅速にアドレスをメーリングリストから削除いたします。\n",
    "\n",
    "どうぞ宜しくお願いいたします。\n",
    "\n",
    "----------\n",
    "千葉大学大学院 心理学専修\n",
    "博士前期課程 若林 明雄研究室\n",
    "\n",
    "　　　　三村 遼平\n",
    "Email: wlab2018.kk@gmail.com\n",
    "----------\n",
    "'''\n",
    "    text = text1 + text2\n",
    "    #添付がある場合にはTrue、なければFalse\n",
    "    attach = False\n",
    "\n",
    "    if attach:\n",
    "        msg=MIMEMultipart()\n",
    "        msg[\"Subject\"] = subject\n",
    "        msg[\"To\"] = mail_to\n",
    "        msg[\"From\"] = account\n",
    "        msg.attach(MIMEText(text.encode(\"iso-2022-jp\"),\"plain\", \"iso-2022-jp\"))\n",
    "\n",
    "        # ファイルを添付\n",
    "        path=\"./添付ファイル\"\n",
    "        with open(path, \"rb\") as file:\n",
    "            part=MIMEApplication(file.read(), Name=basename(path))\n",
    "\n",
    "        part['Content-Disposition']='attachment; filename=\"%s\"' % basename(path)\n",
    "        msg.attach(part)\n",
    "    else:\n",
    "        msg=MIMEText(text.encode(\"iso-2022-jp\"),\"plain\", \"iso-2022-jp\")\n",
    "        msg[\"Subject\"] = subject\n",
    "        msg[\"To\"] = mail_to\n",
    "        msg[\"From\"] = account\n",
    "    # Gmailに接続 --- (*4)\n",
    "    server = smtplib.SMTP_SSL(\"smtp.gmail.com\", 465, context=ssl.create_default_context())\n",
    "    server.login(account, password)\n",
    "    server.send_message(msg) # メールの送信\n",
    "    print(\"Your mail was sent to \" + mail_to)\n",
    "print(\"complete\") # すべて送信したらcomplete"
   ]
  },
  {
   "cell_type": "code",
   "execution_count": 11,
   "metadata": {},
   "outputs": [
    {
     "data": {
      "text/plain": [
       "0"
      ]
     },
     "execution_count": 11,
     "metadata": {},
     "output_type": "execute_result"
    }
   ],
   "source": [
    "# 問題のあったアドレスの行番号\n",
    "i"
   ]
  },
  {
   "cell_type": "markdown",
   "metadata": {},
   "source": [
    "　"
   ]
  },
  {
   "cell_type": "markdown",
   "metadata": {},
   "source": [
    "# 2．実験案内メール"
   ]
  },
  {
   "cell_type": "code",
   "execution_count": 14,
   "metadata": {},
   "outputs": [
    {
     "data": {
      "text/html": [
       "<div>\n",
       "<style scoped>\n",
       "    .dataframe tbody tr th:only-of-type {\n",
       "        vertical-align: middle;\n",
       "    }\n",
       "\n",
       "    .dataframe tbody tr th {\n",
       "        vertical-align: top;\n",
       "    }\n",
       "\n",
       "    .dataframe thead th {\n",
       "        text-align: right;\n",
       "    }\n",
       "</style>\n",
       "<table border=\"1\" class=\"dataframe\">\n",
       "  <thead>\n",
       "    <tr style=\"text-align: right;\">\n",
       "      <th></th>\n",
       "      <th>to</th>\n",
       "      <th>name</th>\n",
       "      <th>date</th>\n",
       "      <th>time</th>\n",
       "      <th>date2</th>\n",
       "    </tr>\n",
       "  </thead>\n",
       "  <tbody>\n",
       "    <tr>\n",
       "      <th>0</th>\n",
       "      <td>mimusan.psy925@gmail.com</td>\n",
       "      <td>三村 遼平（テスト）</td>\n",
       "      <td>2月21日</td>\n",
       "      <td>12:00 ~ 13:00</td>\n",
       "      <td>21</td>\n",
       "    </tr>\n",
       "  </tbody>\n",
       "</table>\n",
       "</div>"
      ],
      "text/plain": [
       "                         to        name   date           time  date2\n",
       "0  mimusan.psy925@gmail.com  三村 遼平（テスト）  2月21日  12:00 ~ 13:00     21"
      ]
     },
     "execution_count": 14,
     "metadata": {},
     "output_type": "execute_result"
    }
   ],
   "source": [
    "# csvファイルの読み込み\n",
    "#[to, name]の変数順序\n",
    "dat=pd.read_csv(\"mail_format2.csv\",encoding=\"SHIFT-JIS\")\n",
    "dat.head(5)"
   ]
  },
  {
   "cell_type": "markdown",
   "metadata": {},
   "source": [
    "## 2.1．実験案内メール（日程相談）"
   ]
  },
  {
   "cell_type": "code",
   "execution_count": 18,
   "metadata": {},
   "outputs": [
    {
     "name": "stdout",
     "output_type": "stream",
     "text": [
      "Your mail was sent to mimusan.psy925@gmail.com\n",
      "complete\n"
     ]
    }
   ],
   "source": [
    "# Gmailの設定2\n",
    "for i in range(0,len(matA)):\n",
    "    # メールの送信先アドレス\n",
    "    mail_to = str(dat.iloc[i,0])\n",
    "\n",
    "    # メールデータ\n",
    "    subject = \"【心理学A】心理学実験へのご参加のお願い\"\n",
    "    text1 = str(dat.iloc[i,1])+''' 様，\n",
    "\n",
    "こんにちは。お世話になっております。\n",
    "教養展開【心理学A】においてTAをしております，三村と申します。\n",
    "この度は，実験の日程調整をさせていただきたく，ご連絡差し上げました。\n",
    "実験にご参加いただいた方には，ターム末テストに一定数の加点が為されます。\n",
    "\n",
    "頂いた日程のうち，\n",
    "'''\n",
    "    text2 = str(matA.iloc[i,2]) + str(matA.iloc[i,3]) +'''\n",
    "に実験をお願いしたく存じます。\n",
    "改めまして，ご都合の程いかがでしょうか。\n",
    "\n",
    "お返事を頂いたのちに，場所についてはお伝えいたします。\n",
    "お手すきの際に，ご連絡を頂きたく存じます。\n",
    "どうぞ宜しくお願いいたします。\n",
    "\n",
    "----------\n",
    "千葉大学大学院 心理学専修\n",
    "博士前期課程 若林 明雄研究室\n",
    "\n",
    "　　　　三村 遼平\n",
    "Email: wlab2018.kk@gmail.com\n",
    "----------'''\n",
    "    text = text1 + text2\n",
    "    \n",
    "    #添付がある場合にはTrue、なければFalse\n",
    "    attach = False\n",
    "\n",
    "    if attach:\n",
    "        msg=MIMEMultipart()\n",
    "        msg[\"Subject\"] = subject\n",
    "        msg[\"To\"] = mail_to\n",
    "        msg[\"From\"] = account\n",
    "        msg.attach(MIMEText(text.encode(\"iso-2022-jp\"),\"plain\", \"iso-2022-jp\"))\n",
    "\n",
    "        # ファイルを添付\n",
    "        path=\"./添付ファイル\"\n",
    "        with open(path, \"rb\") as file:\n",
    "            part=MIMEApplication(file.read(), Name=basename(path))\n",
    "\n",
    "        part['Content-Disposition']='attachment; filename=\"%s\"' % basename(path)\n",
    "        msg.attach(part)\n",
    "    else:\n",
    "        msg=MIMEText(text.encode(\"iso-2022-jp\"),\"plain\", \"iso-2022-jp\")\n",
    "        msg[\"Subject\"] = subject\n",
    "        msg[\"To\"] = mail_to\n",
    "        msg[\"From\"] = account\n",
    "    # Gmailに接続 --- (*4)\n",
    "    server = smtplib.SMTP_SSL(\"smtp.gmail.com\", 465, context=ssl.create_default_context())\n",
    "    server.login(account, password)\n",
    "    server.send_message(msg) # メールの送信\n",
    "    print(\"Your mail was sent to \" + mail_to)\n",
    "print(\"complete\") # すべて送信したらcomplete"
   ]
  },
  {
   "cell_type": "markdown",
   "metadata": {},
   "source": [
    "## 実験案内メール（リマインド）"
   ]
  },
  {
   "cell_type": "code",
   "execution_count": 19,
   "metadata": {},
   "outputs": [
    {
     "data": {
      "text/html": [
       "<div>\n",
       "<style scoped>\n",
       "    .dataframe tbody tr th:only-of-type {\n",
       "        vertical-align: middle;\n",
       "    }\n",
       "\n",
       "    .dataframe tbody tr th {\n",
       "        vertical-align: top;\n",
       "    }\n",
       "\n",
       "    .dataframe thead th {\n",
       "        text-align: right;\n",
       "    }\n",
       "</style>\n",
       "<table border=\"1\" class=\"dataframe\">\n",
       "  <thead>\n",
       "    <tr style=\"text-align: right;\">\n",
       "      <th></th>\n",
       "      <th>to</th>\n",
       "      <th>name</th>\n",
       "      <th>date</th>\n",
       "      <th>time</th>\n",
       "      <th>date2</th>\n",
       "    </tr>\n",
       "  </thead>\n",
       "  <tbody>\n",
       "    <tr>\n",
       "      <th>0</th>\n",
       "      <td>mimusan.psy925@gmail.com</td>\n",
       "      <td>三村 遼平（テスト）</td>\n",
       "      <td>2月21日</td>\n",
       "      <td>12:00 ~ 13:00</td>\n",
       "      <td>21.0</td>\n",
       "    </tr>\n",
       "  </tbody>\n",
       "</table>\n",
       "</div>"
      ],
      "text/plain": [
       "                         to        name   date           time  date2\n",
       "0  mimusan.psy925@gmail.com  三村 遼平（テスト）  2月21日  12:00 ~ 13:00   21.0"
      ]
     },
     "execution_count": 19,
     "metadata": {},
     "output_type": "execute_result"
    }
   ],
   "source": [
    "# 送信リストの選別\n",
    "send_mail_len = 0\n",
    "for i in range(0,len(dat)):\n",
    "    if datetime.datetime.now().day+1 == dat.iloc[i,4]:\n",
    "        send_mail_len += 1\n",
    "\n",
    "matA= np.zeros([send_mail_len, 5])\n",
    "matA[:,:] = np.nan\n",
    "matA=pd.DataFrame(matA,columns=dat.columns)\n",
    "\n",
    "add_line = 0\n",
    "for i in range(0, len(dat)):\n",
    "    if datetime.datetime.now().day+1 == dat.iloc[i,4]:\n",
    "        for add in range(0,5):\n",
    "            matA.iloc[add_line, add] = dat.iloc[i,add]\n",
    "        add_line += 1\n",
    "matA"
   ]
  },
  {
   "cell_type": "code",
   "execution_count": 20,
   "metadata": {},
   "outputs": [
    {
     "name": "stdout",
     "output_type": "stream",
     "text": [
      "Your mail was sent to mimusan.psy925@gmail.com\n",
      "complete\n"
     ]
    }
   ],
   "source": [
    "# Gmailの設定2\n",
    "for i in range(0,len(matA)):\n",
    "    # メールの送信先アドレス\n",
    "    mail_to = str(matA.iloc[i,0])\n",
    "\n",
    "    # メールデータ\n",
    "    subject = \"【心理学A】心理学実験へのご参加のお願い（前日リマインド）\"\n",
    "    text1 = str(matA.iloc[i,1])+''' 様，\n",
    "\n",
    "こんにちは。お世話になっております。\n",
    "心理学専修 若林研究室所属の三村です。\n",
    "\n",
    "明日は，'''\n",
    "    text2 = str(matA.iloc[i,2]) + str(matA.iloc[i,3])+'''より，実験予定となっております。\n",
    "場所は先日ご連絡差し上げた実験室です。\n",
    "明日は直接実験室にお越しください。\n",
    "\n",
    "何かご不明な点等ございましたら，是非ご連絡ください。\n",
    "それでは，明日実験室にてお待ちしております。\n",
    "\n",
    "----------\n",
    "千葉大学大学院 心理学専修\n",
    "博士前期課程 若林 明雄研究室\n",
    "\n",
    "　　　　三村 遼平\n",
    "Email: wlab2018.kk@gmail.com\n",
    "----------\n",
    "'''\n",
    "    text = text1 + text2 \n",
    "    \n",
    "    #添付がある場合にはTrue、なければFalse\n",
    "    attach = False\n",
    "\n",
    "    if attach:\n",
    "        msg=MIMEMultipart()\n",
    "        msg[\"Subject\"] = subject\n",
    "        msg[\"To\"] = mail_to\n",
    "        msg[\"From\"] = account\n",
    "        msg.attach(MIMEText(text.encode(\"iso-2022-jp\"),\"plain\", \"iso-2022-jp\"))\n",
    "\n",
    "        # ファイルを添付\n",
    "        path=\"./添付ファイル\"\n",
    "        with open(path, \"rb\") as file:\n",
    "            part=MIMEApplication(file.read(), Name=basename(path))\n",
    "\n",
    "        part['Content-Disposition']='attachment; filename=\"%s\"' % basename(path)\n",
    "        msg.attach(part)\n",
    "    else:\n",
    "        msg=MIMEText(text.encode(\"iso-2022-jp\"),\"plain\", \"iso-2022-jp\")\n",
    "        msg[\"Subject\"] = subject\n",
    "        msg[\"To\"] = mail_to\n",
    "        msg[\"From\"] = account\n",
    "    # Gmailに接続 --- (*4)\n",
    "    server = smtplib.SMTP_SSL(\"smtp.gmail.com\", 465, context=ssl.create_default_context())\n",
    "    server.login(account, password)\n",
    "    server.send_message(msg) # メールの送信\n",
    "    print(\"Your mail was sent to \" + mail_to)\n",
    "print(\"complete\") # すべて送信したらcomplete"
   ]
  },
  {
   "cell_type": "code",
   "execution_count": null,
   "metadata": {},
   "outputs": [],
   "source": []
  }
 ],
 "metadata": {
  "kernelspec": {
   "display_name": "Python 3",
   "language": "python",
   "name": "python3"
  },
  "language_info": {
   "codemirror_mode": {
    "name": "ipython",
    "version": 3
   },
   "file_extension": ".py",
   "mimetype": "text/x-python",
   "name": "python",
   "nbconvert_exporter": "python",
   "pygments_lexer": "ipython3",
   "version": "3.7.6"
  }
 },
 "nbformat": 4,
 "nbformat_minor": 4
}
