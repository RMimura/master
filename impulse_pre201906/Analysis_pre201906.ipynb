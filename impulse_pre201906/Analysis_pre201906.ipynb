{
 "cells": [
  {
   "cell_type": "code",
   "execution_count": 107,
   "metadata": {},
   "outputs": [],
   "source": [
    "import pandas as pd\n",
    "import numpy as np\n",
    "import glob"
   ]
  },
  {
   "cell_type": "code",
   "execution_count": 108,
   "metadata": {},
   "outputs": [],
   "source": [
    "files = glob.glob(\"csv/*.csv\")"
   ]
  },
  {
   "cell_type": "code",
   "execution_count": 117,
   "metadata": {},
   "outputs": [],
   "source": [
    "mat = np.zeros([31,30])\n",
    "mat[:,:] = np.nan\n",
    "mat = pd.DataFrame(data=mat,\n",
    "                   columns=[\"subj\",\"age\",\"sex\",\"group\",\"all_RT\",\"all_SD\",\"num_RT\",\"num_SD\",\"num_FA\",\"num_MISS\",\"num2_RT\",\"num2_SD\",\"num2_FA\",\"num2_MISS\",\"fig_RT\",\"fig_SD\",\"fig_FA\",\"fig_MISS\",\"fig2_RT\",\"fig2_SD\",\"fig2_FA\",\"fig2_MISS\",\"cha_RT\",\"cha_SD\",\"cha_FA\",\"cha_MISS\",\"cha2_RT\",\"cha2_SD\",\"cha2_FA\",\"cha2_MISS\"])"
   ]
  },
  {
   "cell_type": "code",
   "execution_count": 129,
   "metadata": {},
   "outputs": [],
   "source": [
    "for go_pretest in range(len(files)):\n",
    "    # データファイルを選択\n",
    "    csv_file_name=files[go_pretest]\n",
    "    csv_file=pd.read_csv(csv_file_name,encoding=\"Shift-JIS\")\n",
    "    csv_file.iloc[:,2]=csv_file.iloc[:,2]*1000\n",
    "    \n",
    "    #各ブロックの開始行を取得\n",
    "    chara= csv_file[csv_file.values==\"文字\"].index[0]\n",
    "    chara2= csv_file[csv_file.values==\"文字2\"].index[0]\n",
    "    num= csv_file[csv_file.values==\"数字\"].index[0]\n",
    "    num2= csv_file[csv_file.values==\"数字2\"].index[0]\n",
    "    fig= csv_file[csv_file.values==\"図形\"].index[0]\n",
    "    fig2= csv_file[csv_file.values==\"図形2\"].index[0]\n",
    "    \n",
    "    # グループによってトライアルの順番が異なる\n",
    "    if csv_file.columns[3]=='A':# A: fig-> num-> chara\n",
    "        data=[csv_file[num+1:num2],csv_file[num2+1:chara],csv_file[fig+1:fig2],csv_file[fig2+1:num],csv_file[chara+1:chara2],csv_file[chara2+1:len(csv_file)]]\n",
    "    elif csv_file.columns[3]==\"B\":# B: chara-> num-> fig\n",
    "        data=[csv_file[num+1:num2],csv_file[num2+1:fig],csv_file[fig+1:fig2],csv_file[fig2+1:len(csv_file)],csv_file[chara+1:chara2],csv_file[chara2+1:num]]\n",
    "    else:# C: num-> fig-> chara\n",
    "        data=[csv_file[num+1:num2],csv_file[num2+1:fig],csv_file[fig+1:fig2],csv_file[fig2+1:chara],csv_file[chara+1:chara2],csv_file[chara2+1:len(csv_file)]]\n",
    "\n",
    "    mat.iloc[go_pretest,0]=csv_file.columns[2]\n",
    "    mat.iloc[go_pretest,1]=int(csv_file.columns[0])\n",
    "    mat.iloc[go_pretest,2]=csv_file.columns[1]\n",
    "    mat.iloc[go_pretest,3]=csv_file.columns[3]\n",
    "    mat.iloc[go_pretest,4]=csv_file.iloc[:,2].mean(skipna=True)\n",
    "    mat.iloc[go_pretest,5]=csv_file.iloc[:,2].std(skipna=True)\n",
    "\n",
    "    for data_file in range(6):\n",
    "        dat=data[data_file]\n",
    "\n",
    "        # 反応時間平均\n",
    "        mat.iloc[go_pretest,4*data_file+6]=dat.iloc[:,2].mean(skipna=True)\n",
    "        mat.iloc[go_pretest,4*data_file+7]=dat.iloc[:,2].std(skipna=True)\n",
    "\n",
    "\n",
    "        # False Alarm Rate\n",
    "        trial=0\n",
    "        FA_trial=0\n",
    "        for FA_trial_num in range(len(dat)):\n",
    "            if dat.iloc[FA_trial_num,0]==\"0\":\n",
    "                trial+=1\n",
    "            if dat.iloc[FA_trial_num,0]==\"0\" and dat.iloc[FA_trial_num,1]==1:\n",
    "                FA_trial+=1\n",
    "        mat.iloc[go_pretest,4*data_file+8]=FA_trial/trial*100\n",
    "\n",
    "        # Miss Rate\n",
    "        trial=0\n",
    "        Miss_trial=0\n",
    "        for Miss_trial_num in range(len(dat)):\n",
    "            if dat.iloc[Miss_trial_num,0]==\"1\":\n",
    "                trial+=1\n",
    "            if dat.iloc[Miss_trial_num,0]==\"1\" and dat.iloc[Miss_trial_num,1]==0:\n",
    "                Miss_trial+=1\n",
    "        mat.iloc[go_pretest,4*data_file+9]=Miss_trial/trial*100\n",
    "    "
   ]
  },
  {
   "cell_type": "code",
   "execution_count": 125,
   "metadata": {},
   "outputs": [],
   "source": [
    "mat.to_excel('./analysis.xlsx')"
   ]
  },
  {
   "cell_type": "code",
   "execution_count": 128,
   "metadata": {},
   "outputs": [
    {
     "name": "stdout",
     "output_type": "stream",
     "text": [
      "402.224628400944\n",
      "28.006069793044453\n"
     ]
    }
   ],
   "source": [
    "print(mat.all_RT.mean())\n",
    "print(mat.all_RT.std())"
   ]
  },
  {
   "cell_type": "code",
   "execution_count": null,
   "metadata": {},
   "outputs": [],
   "source": []
  }
 ],
 "metadata": {
  "kernelspec": {
   "display_name": "Python 3",
   "language": "python",
   "name": "python3"
  },
  "language_info": {
   "codemirror_mode": {
    "name": "ipython",
    "version": 3
   },
   "file_extension": ".py",
   "mimetype": "text/x-python",
   "name": "python",
   "nbconvert_exporter": "python",
   "pygments_lexer": "ipython3",
   "version": "3.7.3"
  }
 },
 "nbformat": 4,
 "nbformat_minor": 2
}
