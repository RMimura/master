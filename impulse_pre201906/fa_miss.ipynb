{
 "cells": [
  {
   "cell_type": "code",
   "execution_count": 3,
   "metadata": {},
   "outputs": [
    {
     "data": {
      "text/html": [
       "<table>\n",
       "<thead><tr><th scope=col>sex</th><th scope=col>group</th><th scope=col>num_FA</th><th scope=col>num2_FA</th><th scope=col>fig_FA</th><th scope=col>fig2_FA</th><th scope=col>cha_FA</th><th scope=col>cha2_FA</th><th scope=col>num_MISS</th><th scope=col>num2_MISS</th><th scope=col>fig_MISS</th><th scope=col>fig2_MISS</th><th scope=col>cha_MISS</th><th scope=col>cha2_MISS</th></tr></thead>\n",
       "<tbody>\n",
       "\t<tr><td>female   </td><td>C        </td><td> 0.00000 </td><td>0        </td><td>10.00000 </td><td>0.000000 </td><td> 0       </td><td>4        </td><td>4.166667 </td><td>0.000000 </td><td>33.33333 </td><td>16.666667</td><td> 0.000000</td><td>4.166667 </td></tr>\n",
       "\t<tr><td>male     </td><td>B        </td><td> 0.00000 </td><td>0        </td><td> 0.00000 </td><td>5.263158 </td><td> 0       </td><td>4        </td><td>0.000000 </td><td>0.000000 </td><td> 0.00000 </td><td> 0.000000</td><td>16.666667</td><td>0.000000 </td></tr>\n",
       "\t<tr><td>male     </td><td>C        </td><td> 0.00000 </td><td>0        </td><td> 0.00000 </td><td>0.000000 </td><td> 0       </td><td>0        </td><td>0.000000 </td><td>0.000000 </td><td> 0.00000 </td><td> 5.555556</td><td>12.500000</td><td>8.333333 </td></tr>\n",
       "\t<tr><td>male     </td><td>C        </td><td>11.11111 </td><td>0        </td><td> 0.00000 </td><td>5.263158 </td><td> 0       </td><td>4        </td><td>0.000000 </td><td>0.000000 </td><td> 0.00000 </td><td>22.222222</td><td> 4.166667</td><td>8.333333 </td></tr>\n",
       "\t<tr><td>female   </td><td>A        </td><td> 0.00000 </td><td>0        </td><td>14.28571 </td><td>5.263158 </td><td>20       </td><td>0        </td><td>8.333333 </td><td>4.166667 </td><td>33.33333 </td><td> 5.555556</td><td> 8.333333</td><td>4.166667 </td></tr>\n",
       "\t<tr><td>male     </td><td>A        </td><td> 0.00000 </td><td>0        </td><td> 0.00000 </td><td>0.000000 </td><td> 0       </td><td>0        </td><td>0.000000 </td><td>0.000000 </td><td>33.33333 </td><td>16.666667</td><td> 8.333333</td><td>8.333333 </td></tr>\n",
       "</tbody>\n",
       "</table>\n"
      ],
      "text/latex": [
       "\\begin{tabular}{r|llllllllllllll}\n",
       " sex & group & num\\_FA & num2\\_FA & fig\\_FA & fig2\\_FA & cha\\_FA & cha2\\_FA & num\\_MISS & num2\\_MISS & fig\\_MISS & fig2\\_MISS & cha\\_MISS & cha2\\_MISS\\\\\n",
       "\\hline\n",
       "\t female    & C         &  0.00000  & 0         & 10.00000  & 0.000000  &  0        & 4         & 4.166667  & 0.000000  & 33.33333  & 16.666667 &  0.000000 & 4.166667 \\\\\n",
       "\t male      & B         &  0.00000  & 0         &  0.00000  & 5.263158  &  0        & 4         & 0.000000  & 0.000000  &  0.00000  &  0.000000 & 16.666667 & 0.000000 \\\\\n",
       "\t male      & C         &  0.00000  & 0         &  0.00000  & 0.000000  &  0        & 0         & 0.000000  & 0.000000  &  0.00000  &  5.555556 & 12.500000 & 8.333333 \\\\\n",
       "\t male      & C         & 11.11111  & 0         &  0.00000  & 5.263158  &  0        & 4         & 0.000000  & 0.000000  &  0.00000  & 22.222222 &  4.166667 & 8.333333 \\\\\n",
       "\t female    & A         &  0.00000  & 0         & 14.28571  & 5.263158  & 20        & 0         & 8.333333  & 4.166667  & 33.33333  &  5.555556 &  8.333333 & 4.166667 \\\\\n",
       "\t male      & A         &  0.00000  & 0         &  0.00000  & 0.000000  &  0        & 0         & 0.000000  & 0.000000  & 33.33333  & 16.666667 &  8.333333 & 8.333333 \\\\\n",
       "\\end{tabular}\n"
      ],
      "text/markdown": [
       "\n",
       "sex | group | num_FA | num2_FA | fig_FA | fig2_FA | cha_FA | cha2_FA | num_MISS | num2_MISS | fig_MISS | fig2_MISS | cha_MISS | cha2_MISS | \n",
       "|---|---|---|---|---|---|\n",
       "| female    | C         |  0.00000  | 0         | 10.00000  | 0.000000  |  0        | 4         | 4.166667  | 0.000000  | 33.33333  | 16.666667 |  0.000000 | 4.166667  | \n",
       "| male      | B         |  0.00000  | 0         |  0.00000  | 5.263158  |  0        | 4         | 0.000000  | 0.000000  |  0.00000  |  0.000000 | 16.666667 | 0.000000  | \n",
       "| male      | C         |  0.00000  | 0         |  0.00000  | 0.000000  |  0        | 0         | 0.000000  | 0.000000  |  0.00000  |  5.555556 | 12.500000 | 8.333333  | \n",
       "| male      | C         | 11.11111  | 0         |  0.00000  | 5.263158  |  0        | 4         | 0.000000  | 0.000000  |  0.00000  | 22.222222 |  4.166667 | 8.333333  | \n",
       "| female    | A         |  0.00000  | 0         | 14.28571  | 5.263158  | 20        | 0         | 8.333333  | 4.166667  | 33.33333  |  5.555556 |  8.333333 | 4.166667  | \n",
       "| male      | A         |  0.00000  | 0         |  0.00000  | 0.000000  |  0        | 0         | 0.000000  | 0.000000  | 33.33333  | 16.666667 |  8.333333 | 8.333333  | \n",
       "\n",
       "\n"
      ],
      "text/plain": [
       "  sex    group num_FA   num2_FA fig_FA   fig2_FA  cha_FA cha2_FA num_MISS\n",
       "1 female C      0.00000 0       10.00000 0.000000  0     4       4.166667\n",
       "2 male   B      0.00000 0        0.00000 5.263158  0     4       0.000000\n",
       "3 male   C      0.00000 0        0.00000 0.000000  0     0       0.000000\n",
       "4 male   C     11.11111 0        0.00000 5.263158  0     4       0.000000\n",
       "5 female A      0.00000 0       14.28571 5.263158 20     0       8.333333\n",
       "6 male   A      0.00000 0        0.00000 0.000000  0     0       0.000000\n",
       "  num2_MISS fig_MISS fig2_MISS cha_MISS  cha2_MISS\n",
       "1 0.000000  33.33333 16.666667  0.000000 4.166667 \n",
       "2 0.000000   0.00000  0.000000 16.666667 0.000000 \n",
       "3 0.000000   0.00000  5.555556 12.500000 8.333333 \n",
       "4 0.000000   0.00000 22.222222  4.166667 8.333333 \n",
       "5 4.166667  33.33333  5.555556  8.333333 4.166667 \n",
       "6 0.000000  33.33333 16.666667  8.333333 8.333333 "
      ]
     },
     "metadata": {},
     "output_type": "display_data"
    }
   ],
   "source": [
    "dat=read.csv(\"fa_mis.csv\")\n",
    "head(dat)\n",
    "library(psych)"
   ]
  },
  {
   "cell_type": "code",
   "execution_count": 51,
   "metadata": {},
   "outputs": [
    {
     "data": {
      "text/plain": [
       "            Df Sum Sq Mean Sq F value Pr(>F)  \n",
       "group        2  582.1  291.07   2.986 0.0687 .\n",
       "sex          1  126.6  126.58   1.298 0.2653  \n",
       "group:sex    2  290.1  145.04   1.488 0.2452  \n",
       "Residuals   25 2437.2   97.49                 \n",
       "---\n",
       "Signif. codes:  0 '***' 0.001 '**' 0.01 '*' 0.05 '.' 0.1 ' ' 1"
      ]
     },
     "metadata": {},
     "output_type": "display_data"
    }
   ],
   "source": [
    "aov1<-aov(dat[,8]~group*sex,dat)\n",
    "summary(aov1)"
   ]
  },
  {
   "cell_type": "code",
   "execution_count": 52,
   "metadata": {},
   "outputs": [
    {
     "data": {
      "text/html": [
       "0.169412107101281"
      ],
      "text/latex": [
       "0.169412107101281"
      ],
      "text/markdown": [
       "0.169412107101281"
      ],
      "text/plain": [
       "[1] 0.1694121"
      ]
     },
     "metadata": {},
     "output_type": "display_data"
    }
   ],
   "source": [
    "582.1/(582.1+126.6+290.1+2437.2)"
   ]
  },
  {
   "cell_type": "code",
   "execution_count": 47,
   "metadata": {},
   "outputs": [
    {
     "data": {
      "text/plain": [
       "  Tukey multiple comparisons of means\n",
       "    95% family-wise confidence level\n",
       "\n",
       "Fit: aov(formula = dat[, 6] ~ group * sex, data = dat)\n",
       "\n",
       "$group\n",
       "           diff       lwr      upr     p adj\n",
       "B-A  0.07108681 -5.573380 5.715554 0.9994576\n",
       "C-A -2.29186603 -8.069162 3.485430 0.5909946\n",
       "C-B -2.36295284 -8.007420 3.281514 0.5575523\n",
       "\n",
       "$sex\n",
       "                 diff       lwr       upr     p adj\n",
       "male-female -3.506394 -7.345328 0.3325405 0.0716498\n",
       "\n",
       "$`group:sex`\n",
       "                        diff        lwr       upr     p adj\n",
       "B:female-A:female -1.9396218 -11.618023  7.738779 0.9886764\n",
       "C:female-A:female -3.6363636 -13.745124  6.472397 0.8732252\n",
       "A:male-A:female   -5.7416268 -15.850387  4.367134 0.5135048\n",
       "B:male-A:female   -3.8318524 -13.940613  6.276908 0.8474390\n",
       "C:male-A:female   -6.6889952 -16.797756  3.419765 0.3497086\n",
       "C:female-B:female -1.6967419 -11.375143  7.981659 0.9938584\n",
       "A:male-B:female   -3.8020050 -13.480406  5.876396 0.8276085\n",
       "B:male-B:female   -1.8922306 -11.570632  7.786171 0.9898761\n",
       "C:male-B:female   -4.7493734 -14.427775  4.929028 0.6599200\n",
       "A:male-C:female   -2.1052632 -12.214024  8.003497 0.9865388\n",
       "B:male-C:female   -0.1954887 -10.304249  9.913272 0.9999999\n",
       "C:male-C:female   -3.0526316 -13.161392  7.056129 0.9347002\n",
       "B:male-A:male      1.9097744  -8.198986 12.018535 0.9913391\n",
       "C:male-A:male     -0.9473684 -11.056129  9.161392 0.9996929\n",
       "C:male-B:male     -2.8571429 -12.965903  7.251618 0.9499755\n"
      ]
     },
     "metadata": {},
     "output_type": "display_data"
    }
   ],
   "source": [
    "TukeyHSD(aov1)"
   ]
  },
  {
   "cell_type": "code",
   "execution_count": 5,
   "metadata": {},
   "outputs": [
    {
     "data": {
      "text/plain": [
       "Call:corr.test(x = dat[, 3:8])\n",
       "Correlation matrix \n",
       "        num_FA num2_FA fig_FA fig2_FA cha_FA cha2_FA\n",
       "num_FA    1.00   -0.08  -0.12   -0.01  -0.09   -0.20\n",
       "num2_FA  -0.08    1.00   0.32   -0.15   0.04   -0.04\n",
       "fig_FA   -0.12    0.32   1.00    0.21  -0.03    0.22\n",
       "fig2_FA  -0.01   -0.15   0.21    1.00   0.02    0.35\n",
       "cha_FA   -0.09    0.04  -0.03    0.02   1.00    0.11\n",
       "cha2_FA  -0.20   -0.04   0.22    0.35   0.11    1.00\n",
       "Sample Size \n",
       "[1] 31\n",
       "Probability values (Entries above the diagonal are adjusted for multiple tests.) \n",
       "        num_FA num2_FA fig_FA fig2_FA cha_FA cha2_FA\n",
       "num_FA    0.00    1.00   1.00    1.00   1.00    1.00\n",
       "num2_FA   0.65    0.00   1.00    1.00   1.00    1.00\n",
       "fig_FA    0.51    0.08   0.00    1.00   1.00    1.00\n",
       "fig2_FA   0.94    0.42   0.26    0.00   1.00    0.77\n",
       "cha_FA    0.64    0.82   0.89    0.92   0.00    1.00\n",
       "cha2_FA   0.28    0.83   0.24    0.05   0.56    0.00\n",
       "\n",
       " To see confidence intervals of the correlations, print with the short=FALSE option"
      ]
     },
     "metadata": {},
     "output_type": "display_data"
    }
   ],
   "source": [
    "corr.test(dat[,3:8])"
   ]
  },
  {
   "cell_type": "code",
   "execution_count": 7,
   "metadata": {},
   "outputs": [
    {
     "data": {
      "text/plain": [
       "Call:corr.test(x = dat[, 9:14])\n",
       "Correlation matrix \n",
       "          num_MISS num2_MISS fig_MISS fig2_MISS cha_MISS cha2_MISS\n",
       "num_MISS      1.00      0.07     0.27      0.04     0.01      0.03\n",
       "num2_MISS     0.07      1.00     0.18     -0.08    -0.20      0.21\n",
       "fig_MISS      0.27      0.18     1.00      0.20    -0.24      0.06\n",
       "fig2_MISS     0.04     -0.08     0.20      1.00     0.03      0.21\n",
       "cha_MISS      0.01     -0.20    -0.24      0.03     1.00      0.53\n",
       "cha2_MISS     0.03      0.21     0.06      0.21     0.53      1.00\n",
       "Sample Size \n",
       "[1] 31\n",
       "Probability values (Entries above the diagonal are adjusted for multiple tests.) \n",
       "          num_MISS num2_MISS fig_MISS fig2_MISS cha_MISS cha2_MISS\n",
       "num_MISS      0.00      1.00     1.00      1.00        1      1.00\n",
       "num2_MISS     0.70      0.00     1.00      1.00        1      1.00\n",
       "fig_MISS      0.14      0.33     0.00      1.00        1      1.00\n",
       "fig2_MISS     0.84      0.66     0.29      0.00        1      1.00\n",
       "cha_MISS      0.94      0.27     0.20      0.88        0      0.03\n",
       "cha2_MISS     0.85      0.26     0.76      0.25        0      0.00\n",
       "\n",
       " To see confidence intervals of the correlations, print with the short=FALSE option"
      ]
     },
     "metadata": {},
     "output_type": "display_data"
    }
   ],
   "source": [
    "corr.test(dat[,9:14])"
   ]
  },
  {
   "cell_type": "code",
   "execution_count": null,
   "metadata": {},
   "outputs": [],
   "source": []
  }
 ],
 "metadata": {
  "kernelspec": {
   "display_name": "R",
   "language": "R",
   "name": "ir"
  },
  "language_info": {
   "codemirror_mode": "r",
   "file_extension": ".r",
   "mimetype": "text/x-r-source",
   "name": "R",
   "pygments_lexer": "r",
   "version": "3.5.1"
  }
 },
 "nbformat": 4,
 "nbformat_minor": 2
}
